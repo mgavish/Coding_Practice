{
 "cells": [
  {
   "cell_type": "markdown",
   "metadata": {
    "heading_collapsed": true
   },
   "source": [
    "# Two Number Sum"
   ]
  },
  {
   "cell_type": "markdown",
   "metadata": {
    "hidden": true
   },
   "source": [
    "Write a function that takes in a non-empty array of distinct integers and an integer representing a target sum.  If any two numbers in the input array sum to the target sum, the function should return then in an array.  If no two numbers sum to the target sum, the function should return an empty array.  Assume there will be at most one pair of numbers summing to the target sum.  \n",
    "Sample input: [3,5,-4,8,11,1,-1,6], 10  \n",
    "Sample output: [-1,11]"
   ]
  },
  {
   "cell_type": "code",
   "execution_count": 1,
   "metadata": {
    "hidden": true
   },
   "outputs": [],
   "source": [
    "# solution 1: two for-loops\n",
    "# O(n^2) time | O(1) space\n",
    "\n",
    "def twoNumberSum(array, targetSum):\n",
    "    for i in range(len(array)-1):\n",
    "        firstNum = array[i]\n",
    "        for j in range(i+1, len(array)):\n",
    "            secondNum = array[j]\n",
    "            if firstNum + secondNum == targetSum:\n",
    "                return[firstNum, secondNum]\n",
    "    return[] \n",
    "   \n"
   ]
  },
  {
   "cell_type": "code",
   "execution_count": 2,
   "metadata": {
    "hidden": true
   },
   "outputs": [
    {
     "data": {
      "text/plain": [
       "[11, -1]"
      ]
     },
     "execution_count": 2,
     "metadata": {},
     "output_type": "execute_result"
    }
   ],
   "source": [
    "twoNumberSum([3,5,-4,8,11,1,-1,6],10)"
   ]
  },
  {
   "cell_type": "code",
   "execution_count": 3,
   "metadata": {
    "hidden": true
   },
   "outputs": [
    {
     "data": {
      "text/plain": [
       "[]"
      ]
     },
     "execution_count": 3,
     "metadata": {},
     "output_type": "execute_result"
    }
   ],
   "source": [
    "twoNumberSum([-21, 301, 12, 4, 65, 56, 210,356, 9,-47], 164)"
   ]
  },
  {
   "cell_type": "code",
   "execution_count": 11,
   "metadata": {
    "hidden": true
   },
   "outputs": [],
   "source": [
    "# solution 2: looking for y in x + y = targetSum ; using a hash table as helper\n",
    "# O(n) time | O(n) space\n",
    "\n",
    "def twoNumbersum_v2(array, targetSum):\n",
    "    nums = []\n",
    "    for num in array:\n",
    "        potentialMatch = targetSum - num\n",
    "        if potentialMatch in nums:\n",
    "            return potentialMatch, num\n",
    "        else:\n",
    "            nums.append(num)\n",
    "    return []\n",
    "\n"
   ]
  },
  {
   "cell_type": "code",
   "execution_count": 12,
   "metadata": {
    "hidden": true
   },
   "outputs": [
    {
     "data": {
      "text/plain": [
       "(11, -1)"
      ]
     },
     "execution_count": 12,
     "metadata": {},
     "output_type": "execute_result"
    }
   ],
   "source": [
    "twoNumbersum_v2([3,5,-4,8,11,1,-1,6],10)"
   ]
  },
  {
   "cell_type": "code",
   "execution_count": null,
   "metadata": {
    "hidden": true
   },
   "outputs": [],
   "source": [
    "# solution 3\n",
    "# O(nlog(n)) | O(1) space\n",
    "\n",
    "def twoNumbersum_v3(array, targetSum):\n",
    "    array.sort()\n",
    "    left = 0\n",
    "    right = len(array) -1\n",
    "    \n",
    "    while left < right:\n",
    "        currentSum = array[left] + array[right]\n",
    "        if currentSum == targetSum:\n",
    "            return array[left], array[right]\n",
    "        elif currentSum < targetSum:\n",
    "            left +=1\n",
    "        elif currentSum > targetSum:\n",
    "            right -=1\n",
    "    return[]"
   ]
  },
  {
   "cell_type": "markdown",
   "metadata": {},
   "source": [
    "# Q.2 \n",
    "\n"
   ]
  },
  {
   "cell_type": "code",
   "execution_count": 19,
   "metadata": {},
   "outputs": [],
   "source": [
    "helper = [5, 2, [7, 1], 3, [6, [ -13,8], 4]]"
   ]
  },
  {
   "cell_type": "code",
   "execution_count": 28,
   "metadata": {},
   "outputs": [],
   "source": [
    "\"\"\"use recursion -- a function that calls itself; process of defining something in terms of itself, e.g., in real world,\n",
    "   two mirrors facing each other\"\"\"\n",
    "\n",
    "def productSum(array, multiplier = 1):\n",
    "    sum = 0\n",
    "    for element in array:\n",
    "        if type(element) is list:\n",
    "            sum += productSum(element, multiplier + 1)\n",
    "        else:\n",
    "            sum += element\n",
    "    return sum * multiplier"
   ]
  },
  {
   "cell_type": "code",
   "execution_count": 30,
   "metadata": {},
   "outputs": [
    {
     "data": {
      "text/plain": [
       "18"
      ]
     },
     "execution_count": 30,
     "metadata": {},
     "output_type": "execute_result"
    }
   ],
   "source": [
    "productSum([1,2,[3],4,5])"
   ]
  },
  {
   "cell_type": "code",
   "execution_count": 31,
   "metadata": {},
   "outputs": [
    {
     "data": {
      "text/plain": [
       "600"
      ]
     },
     "execution_count": 31,
     "metadata": {},
     "output_type": "execute_result"
    }
   ],
   "source": [
    "productSum([[[[[5]]]]])"
   ]
  },
  {
   "cell_type": "code",
   "execution_count": null,
   "metadata": {},
   "outputs": [],
   "source": [
    "productSum([\n",
    "            9, \n",
    "            [2, -3, 4],\n",
    "            1,\n",
    "            [1, 1, [1, 1, 1]],\n",
    "            [[[[3, 4, 1]]], 8],\n",
    "            [1, 2, 3, 4, 5, [6, 7], -7],\n",
    "            [1, [2, 3, [4, 5]], [6, 0, [7, 0, -8]], -7],\n",
    "           [1, -3, 2, [1, -3, 2, [1, -3, 2], [1, -3, 2, [1, -3, 2]], [1, -3, 2]]], -3,]])"
   ]
  },
  {
   "cell_type": "code",
   "execution_count": 24,
   "metadata": {},
   "outputs": [
    {
     "name": "stdout",
     "output_type": "stream",
     "text": [
      "The factorial of 4 is 24\n"
     ]
    }
   ],
   "source": [
    "def calc_factorial(x):\n",
    "    \"\"\"This is a recursive function\n",
    "    to find the factorial of an integer\"\"\"\n",
    "\n",
    "    if x == 1:\n",
    "        return 1\n",
    "    else:\n",
    "        return (x * calc_factorial(x-1))\n",
    "\n",
    "num = 4\n",
    "print(\"The factorial of\", num, \"is\", calc_factorial(num))\t\t"
   ]
  },
  {
   "cell_type": "code",
   "execution_count": null,
   "metadata": {},
   "outputs": [],
   "source": []
  }
 ],
 "metadata": {
  "kernelspec": {
   "display_name": "learn-env",
   "language": "python",
   "name": "learn-env"
  },
  "language_info": {
   "codemirror_mode": {
    "name": "ipython",
    "version": 3
   },
   "file_extension": ".py",
   "mimetype": "text/x-python",
   "name": "python",
   "nbconvert_exporter": "python",
   "pygments_lexer": "ipython3",
   "version": "3.6.6"
  },
  "toc": {
   "base_numbering": 1,
   "nav_menu": {},
   "number_sections": true,
   "sideBar": true,
   "skip_h1_title": false,
   "title_cell": "Table of Contents",
   "title_sidebar": "Contents",
   "toc_cell": false,
   "toc_position": {},
   "toc_section_display": true,
   "toc_window_display": false
  }
 },
 "nbformat": 4,
 "nbformat_minor": 2
}
